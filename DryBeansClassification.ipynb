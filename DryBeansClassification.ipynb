{
 "cells": [
  {
   "cell_type": "markdown",
   "id": "9dbf987c",
   "metadata": {
    "papermill": {
     "duration": 0.030935,
     "end_time": "2021-09-24T23:52:40.649514",
     "exception": false,
     "start_time": "2021-09-24T23:52:40.618579",
     "status": "completed"
    },
    "tags": []
   },
   "source": [
    "> **Tip**: Welcome to the Investigate a Dataset project! You will find tips in quoted sections like this to help organize your approach to your investigation. Before submitting your project, it will be a good idea to go back through your report and remove these sections to make the presentation of your work as tidy as possible. First things first, you might want to double-click this Markdown cell and change the title so that it reflects your dataset and investigation.\n",
    "\n",
    "# Project: Investigate a Dataset (Replace this with something more specific!)\n",
    "\n",
    "## Table of Contents\n",
    "<ul>\n",
    "<li><a href=\"#intro\">Introduction</a></li>\n",
    "<li><a href=\"#wrangling\">Data Wrangling</a></li>\n",
    "<li><a href=\"#eda\">Exploratory Data Analysis</a></li>\n",
    "<li><a href=\"#conclusions\">Conclusions</a></li>\n",
    "</ul>"
   ]
  },
  {
   "cell_type": "markdown",
   "id": "1fb07094",
   "metadata": {
    "papermill": {
     "duration": 0.029202,
     "end_time": "2021-09-24T23:52:40.711085",
     "exception": false,
     "start_time": "2021-09-24T23:52:40.681883",
     "status": "completed"
    },
    "tags": []
   },
   "source": [
    "<a id='intro'></a>\n",
    "## Introduction\n",
    "\n",
    "> **Tip**: In this section of the report, provide a brief introduction to the dataset you've selected for analysis. At the end of this section, describe the questions that you plan on exploring over the course of the report. Try to build your report around the analysis of at least one dependent variable and three independent variables.\n",
    ">\n",
    "> If you haven't yet selected and downloaded your data, make sure you do that first before coming back here. If you're not sure what questions to ask right now, then make sure you familiarize yourself with the variables and the dataset context for ideas of what to explore."
   ]
  },
  {
   "cell_type": "code",
   "execution_count": 1,
   "id": "5073919f",
   "metadata": {
    "execution": {
     "iopub.execute_input": "2021-09-24T23:52:40.775669Z",
     "iopub.status.busy": "2021-09-24T23:52:40.774622Z",
     "iopub.status.idle": "2021-09-24T23:52:40.790874Z",
     "shell.execute_reply": "2021-09-24T23:52:40.791406Z",
     "shell.execute_reply.started": "2021-09-24T23:49:27.239598Z"
    },
    "papermill": {
     "duration": 0.050598,
     "end_time": "2021-09-24T23:52:40.791690",
     "exception": false,
     "start_time": "2021-09-24T23:52:40.741092",
     "status": "completed"
    },
    "tags": []
   },
   "outputs": [],
   "source": [
    "%config Completer.use_jedi = False"
   ]
  },
  {
   "cell_type": "code",
   "execution_count": 2,
   "id": "d1fea96c",
   "metadata": {
    "execution": {
     "iopub.execute_input": "2021-09-24T23:52:40.853600Z",
     "iopub.status.busy": "2021-09-24T23:52:40.852982Z",
     "iopub.status.idle": "2021-09-24T23:52:41.799901Z",
     "shell.execute_reply": "2021-09-24T23:52:41.800480Z",
     "shell.execute_reply.started": "2021-09-24T23:49:27.282355Z"
    },
    "papermill": {
     "duration": 0.979746,
     "end_time": "2021-09-24T23:52:41.800676",
     "exception": false,
     "start_time": "2021-09-24T23:52:40.820930",
     "status": "completed"
    },
    "tags": []
   },
   "outputs": [],
   "source": [
    "# Use this cell to set up import statements for all of the packages that you\n",
    "#   plan to use.\n",
    "import pandas as pd\n",
    "import numpy as np\n",
    "import matplotlib.pyplot as plt\n",
    "import seaborn as sns\n",
    "sns.set()\n",
    "# Remember to include a 'magic word' so that your visualizations are plotted\n",
    "#   inline with the notebook. See this page for more:\n",
    "#   http://ipython.readthedocs.io/en/stable/interactive/magics.html\n"
   ]
  },
  {
   "cell_type": "markdown",
   "id": "9bc174fa",
   "metadata": {
    "papermill": {
     "duration": 0.029839,
     "end_time": "2021-09-24T23:52:41.863165",
     "exception": false,
     "start_time": "2021-09-24T23:52:41.833326",
     "status": "completed"
    },
    "tags": []
   },
   "source": [
    "<a id='wrangling'></a>\n",
    "## Data Wrangling\n",
    "\n",
    "> **Tip**: In this section of the report, you will load in the data, check for cleanliness, and then trim and clean your dataset for analysis. Make sure that you document your steps carefully and justify your cleaning decisions.\n",
    "\n",
    "### General Properties"
   ]
  },
  {
   "cell_type": "code",
   "execution_count": 3,
   "id": "11895dd9",
   "metadata": {
    "execution": {
     "iopub.execute_input": "2021-09-24T23:52:41.926512Z",
     "iopub.status.busy": "2021-09-24T23:52:41.925558Z",
     "iopub.status.idle": "2021-09-24T23:52:42.116622Z",
     "shell.execute_reply": "2021-09-24T23:52:42.116131Z",
     "shell.execute_reply.started": "2021-09-24T23:49:28.222291Z"
    },
    "papermill": {
     "duration": 0.224386,
     "end_time": "2021-09-24T23:52:42.116763",
     "exception": false,
     "start_time": "2021-09-24T23:52:41.892377",
     "status": "completed"
    },
    "tags": []
   },
   "outputs": [
    {
     "name": "stdout",
     "output_type": "stream",
     "text": [
      "   ID   Area  Perimeter  MajorAxisLength  MinorAxisLength  AspectRation  \\\n",
      "0   0  58238    971.303       397.202654       186.945510      2.124697   \n",
      "1   1  44515    757.601       265.590470       213.967453      1.241266   \n",
      "2   2  31662    653.783       239.902428       168.421505      1.424417   \n",
      "3   3  38778    734.020       268.446281       184.061923      1.458456   \n",
      "4   4  42530    775.403       281.212824       193.236878      1.455275   \n",
      "\n",
      "   Eccentricity  ConvexArea  EquivDiameter    Extent  Solidity  roundness  \\\n",
      "0      0.882317       58977     272.306674  0.604756  0.987470   0.775723   \n",
      "1      0.592420       44780     238.071960  0.771745  0.994082   0.974620   \n",
      "2      0.712136       32034     200.781748  0.801407  0.988387   0.930853   \n",
      "3      0.727925       39208     222.201897  0.766137  0.989033   0.904439   \n",
      "4      0.726511       43028     232.703412  0.729816  0.988426   0.888895   \n",
      "\n",
      "   Compactness  ShapeFactor1  ShapeFactor2  ShapeFactor3  ShapeFactor4  \\\n",
      "0     0.685561      0.006820      0.000929      0.469994      0.998595   \n",
      "1     0.896387      0.005966      0.002376      0.803510      0.997370   \n",
      "2     0.836931      0.007577      0.002293      0.700453      0.997737   \n",
      "3     0.827733      0.006923      0.002005      0.685142      0.999250   \n",
      "4     0.827499      0.006612      0.001912      0.684755      0.996507   \n",
      "\n",
      "          y  \n",
      "0     HOROZ  \n",
      "1     SEKER  \n",
      "2  DERMASON  \n",
      "3  DERMASON  \n",
      "4      SIRA  \n",
      "      ID    Area  Perimeter  MajorAxisLength  MinorAxisLength  AspectRation  \\\n",
      "0  10834   57659    955.434       387.757607       196.625782      1.972059   \n",
      "1  10835   28772    630.362       229.990785       159.609367      1.440960   \n",
      "2  10836   54677    911.022       308.853903       226.398571      1.364204   \n",
      "3  10837   24827    578.304       214.192699       147.788172      1.449322   \n",
      "4  10838  141850   1432.847       524.923471       346.910920      1.513136   \n",
      "\n",
      "   Eccentricity  ConvexArea  EquivDiameter    Extent  Solidity  roundness  \\\n",
      "0      0.861896       60188     270.949661  0.620790  0.957982   0.793735   \n",
      "1      0.719993       29127     191.399185  0.767458  0.987812   0.909913   \n",
      "2      0.680198       55858     263.850182  0.753013  0.978857   0.827860   \n",
      "3      0.723831       25121     177.794033  0.716508  0.988297   0.932871   \n",
      "4      0.750492      143680     424.981211  0.804617  0.987263   0.868240   \n",
      "\n",
      "   Compactness  ShapeFactor1  ShapeFactor2  ShapeFactor3  ShapeFactor4  \n",
      "0     0.698760      0.006725      0.000989      0.488266      0.962889  \n",
      "1     0.832204      0.007994      0.002365      0.692563      0.997956  \n",
      "2     0.854288      0.005649      0.001856      0.729808      0.995607  \n",
      "3     0.830066      0.008627      0.002526      0.689009      0.998596  \n",
      "4     0.809606      0.003701      0.000981      0.655462      0.991803  \n"
     ]
    }
   ],
   "source": [
    "# Load your data and print out a few lines. Perform operations to inspect data\n",
    "#   types and look for instances of missing or possibly errant data.\n",
    "train_data= pd.read_csv('../input/dry-beans-classification-iti-ai-pro-intake01/train.csv')\n",
    "test_data= pd.read_csv('../input/dry-beans-classification-iti-ai-pro-intake01/test.csv')\n",
    "print(train_data.head())\n",
    "print(test_data.head())"
   ]
  },
  {
   "cell_type": "code",
   "execution_count": 4,
   "id": "9edfd4cd",
   "metadata": {
    "execution": {
     "iopub.execute_input": "2021-09-24T23:52:42.200869Z",
     "iopub.status.busy": "2021-09-24T23:52:42.199863Z",
     "iopub.status.idle": "2021-09-24T23:52:42.208327Z",
     "shell.execute_reply": "2021-09-24T23:52:42.208866Z",
     "shell.execute_reply.started": "2021-09-24T23:49:28.366690Z"
    },
    "papermill": {
     "duration": 0.054961,
     "end_time": "2021-09-24T23:52:42.209055",
     "exception": false,
     "start_time": "2021-09-24T23:52:42.154094",
     "status": "completed"
    },
    "tags": []
   },
   "outputs": [
    {
     "data": {
      "text/plain": [
       "array(['HOROZ', 'SEKER', 'DERMASON', 'SIRA', 'BARBUNYA', 'CALI', 'BOMBAY'],\n",
       "      dtype=object)"
      ]
     },
     "execution_count": 4,
     "metadata": {},
     "output_type": "execute_result"
    }
   ],
   "source": [
    "train_data['y'].unique()"
   ]
  },
  {
   "cell_type": "code",
   "execution_count": 5,
   "id": "91c01e5c",
   "metadata": {
    "execution": {
     "iopub.execute_input": "2021-09-24T23:52:42.275449Z",
     "iopub.status.busy": "2021-09-24T23:52:42.274668Z",
     "iopub.status.idle": "2021-09-24T23:52:42.301995Z",
     "shell.execute_reply": "2021-09-24T23:52:42.302494Z",
     "shell.execute_reply.started": "2021-09-24T23:49:28.386112Z"
    },
    "papermill": {
     "duration": 0.061991,
     "end_time": "2021-09-24T23:52:42.302669",
     "exception": false,
     "start_time": "2021-09-24T23:52:42.240678",
     "status": "completed"
    },
    "tags": []
   },
   "outputs": [
    {
     "name": "stdout",
     "output_type": "stream",
     "text": [
      "<class 'pandas.core.frame.DataFrame'>\n",
      "RangeIndex: 10834 entries, 0 to 10833\n",
      "Data columns (total 18 columns):\n",
      " #   Column           Non-Null Count  Dtype  \n",
      "---  ------           --------------  -----  \n",
      " 0   ID               10834 non-null  int64  \n",
      " 1   Area             10834 non-null  int64  \n",
      " 2   Perimeter        10834 non-null  float64\n",
      " 3   MajorAxisLength  10834 non-null  float64\n",
      " 4   MinorAxisLength  10834 non-null  float64\n",
      " 5   AspectRation     10834 non-null  float64\n",
      " 6   Eccentricity     10834 non-null  float64\n",
      " 7   ConvexArea       10834 non-null  int64  \n",
      " 8   EquivDiameter    10834 non-null  float64\n",
      " 9   Extent           10834 non-null  float64\n",
      " 10  Solidity         10834 non-null  float64\n",
      " 11  roundness        10834 non-null  float64\n",
      " 12  Compactness      10834 non-null  float64\n",
      " 13  ShapeFactor1     10834 non-null  float64\n",
      " 14  ShapeFactor2     10834 non-null  float64\n",
      " 15  ShapeFactor3     10834 non-null  float64\n",
      " 16  ShapeFactor4     10834 non-null  float64\n",
      " 17  y                10834 non-null  object \n",
      "dtypes: float64(14), int64(3), object(1)\n",
      "memory usage: 1.5+ MB\n",
      "None\n",
      "<class 'pandas.core.frame.DataFrame'>\n",
      "RangeIndex: 2709 entries, 0 to 2708\n",
      "Data columns (total 17 columns):\n",
      " #   Column           Non-Null Count  Dtype  \n",
      "---  ------           --------------  -----  \n",
      " 0   ID               2709 non-null   int64  \n",
      " 1   Area             2709 non-null   int64  \n",
      " 2   Perimeter        2709 non-null   float64\n",
      " 3   MajorAxisLength  2709 non-null   float64\n",
      " 4   MinorAxisLength  2709 non-null   float64\n",
      " 5   AspectRation     2709 non-null   float64\n",
      " 6   Eccentricity     2709 non-null   float64\n",
      " 7   ConvexArea       2709 non-null   int64  \n",
      " 8   EquivDiameter    2709 non-null   float64\n",
      " 9   Extent           2709 non-null   float64\n",
      " 10  Solidity         2709 non-null   float64\n",
      " 11  roundness        2709 non-null   float64\n",
      " 12  Compactness      2709 non-null   float64\n",
      " 13  ShapeFactor1     2709 non-null   float64\n",
      " 14  ShapeFactor2     2709 non-null   float64\n",
      " 15  ShapeFactor3     2709 non-null   float64\n",
      " 16  ShapeFactor4     2709 non-null   float64\n",
      "dtypes: float64(14), int64(3)\n",
      "memory usage: 359.9 KB\n",
      "None\n"
     ]
    }
   ],
   "source": [
    "print(train_data.info())\n",
    "print(test_data.info())"
   ]
  },
  {
   "cell_type": "markdown",
   "id": "f592b1c3",
   "metadata": {
    "papermill": {
     "duration": 0.032737,
     "end_time": "2021-09-24T23:52:42.367433",
     "exception": false,
     "start_time": "2021-09-24T23:52:42.334696",
     "status": "completed"
    },
    "tags": []
   },
   "source": [
    "**No null values, no wrong datatypes**"
   ]
  },
  {
   "cell_type": "code",
   "execution_count": 6,
   "id": "b2bc66d7",
   "metadata": {
    "execution": {
     "iopub.execute_input": "2021-09-24T23:52:42.439227Z",
     "iopub.status.busy": "2021-09-24T23:52:42.433537Z",
     "iopub.status.idle": "2021-09-24T23:52:42.497519Z",
     "shell.execute_reply": "2021-09-24T23:52:42.496902Z",
     "shell.execute_reply.started": "2021-09-24T23:49:28.429453Z"
    },
    "papermill": {
     "duration": 0.098951,
     "end_time": "2021-09-24T23:52:42.497653",
     "exception": false,
     "start_time": "2021-09-24T23:52:42.398702",
     "status": "completed"
    },
    "tags": []
   },
   "outputs": [
    {
     "data": {
      "text/html": [
       "<div>\n",
       "<style scoped>\n",
       "    .dataframe tbody tr th:only-of-type {\n",
       "        vertical-align: middle;\n",
       "    }\n",
       "\n",
       "    .dataframe tbody tr th {\n",
       "        vertical-align: top;\n",
       "    }\n",
       "\n",
       "    .dataframe thead th {\n",
       "        text-align: right;\n",
       "    }\n",
       "</style>\n",
       "<table border=\"1\" class=\"dataframe\">\n",
       "  <thead>\n",
       "    <tr style=\"text-align: right;\">\n",
       "      <th></th>\n",
       "      <th>ID</th>\n",
       "      <th>Area</th>\n",
       "      <th>Perimeter</th>\n",
       "      <th>MajorAxisLength</th>\n",
       "      <th>MinorAxisLength</th>\n",
       "      <th>AspectRation</th>\n",
       "      <th>Eccentricity</th>\n",
       "      <th>ConvexArea</th>\n",
       "      <th>EquivDiameter</th>\n",
       "      <th>Extent</th>\n",
       "      <th>Solidity</th>\n",
       "      <th>roundness</th>\n",
       "      <th>Compactness</th>\n",
       "      <th>ShapeFactor1</th>\n",
       "      <th>ShapeFactor2</th>\n",
       "      <th>ShapeFactor3</th>\n",
       "      <th>ShapeFactor4</th>\n",
       "    </tr>\n",
       "  </thead>\n",
       "  <tbody>\n",
       "    <tr>\n",
       "      <th>count</th>\n",
       "      <td>10834.000000</td>\n",
       "      <td>10834.000000</td>\n",
       "      <td>10834.000000</td>\n",
       "      <td>10834.000000</td>\n",
       "      <td>10834.000000</td>\n",
       "      <td>10834.000000</td>\n",
       "      <td>10834.000000</td>\n",
       "      <td>10834.000000</td>\n",
       "      <td>10834.000000</td>\n",
       "      <td>10834.000000</td>\n",
       "      <td>10834.000000</td>\n",
       "      <td>10834.000000</td>\n",
       "      <td>10834.000000</td>\n",
       "      <td>10834.000000</td>\n",
       "      <td>10834.000000</td>\n",
       "      <td>10834.000000</td>\n",
       "      <td>10834.000000</td>\n",
       "    </tr>\n",
       "    <tr>\n",
       "      <th>mean</th>\n",
       "      <td>5416.500000</td>\n",
       "      <td>53095.675189</td>\n",
       "      <td>855.274892</td>\n",
       "      <td>320.036169</td>\n",
       "      <td>202.410342</td>\n",
       "      <td>1.581294</td>\n",
       "      <td>0.750588</td>\n",
       "      <td>53816.205926</td>\n",
       "      <td>253.123583</td>\n",
       "      <td>0.749937</td>\n",
       "      <td>0.987152</td>\n",
       "      <td>0.873647</td>\n",
       "      <td>0.800244</td>\n",
       "      <td>0.006559</td>\n",
       "      <td>0.001718</td>\n",
       "      <td>0.644139</td>\n",
       "      <td>0.995083</td>\n",
       "    </tr>\n",
       "    <tr>\n",
       "      <th>std</th>\n",
       "      <td>3127.650742</td>\n",
       "      <td>29542.542580</td>\n",
       "      <td>214.991122</td>\n",
       "      <td>85.961630</td>\n",
       "      <td>45.113965</td>\n",
       "      <td>0.244314</td>\n",
       "      <td>0.091481</td>\n",
       "      <td>29999.710739</td>\n",
       "      <td>59.433080</td>\n",
       "      <td>0.048949</td>\n",
       "      <td>0.004626</td>\n",
       "      <td>0.059344</td>\n",
       "      <td>0.061228</td>\n",
       "      <td>0.001127</td>\n",
       "      <td>0.000593</td>\n",
       "      <td>0.098268</td>\n",
       "      <td>0.004306</td>\n",
       "    </tr>\n",
       "    <tr>\n",
       "      <th>min</th>\n",
       "      <td>0.000000</td>\n",
       "      <td>20420.000000</td>\n",
       "      <td>524.932000</td>\n",
       "      <td>183.601165</td>\n",
       "      <td>129.576207</td>\n",
       "      <td>1.024868</td>\n",
       "      <td>0.218951</td>\n",
       "      <td>20684.000000</td>\n",
       "      <td>161.243764</td>\n",
       "      <td>0.555315</td>\n",
       "      <td>0.919246</td>\n",
       "      <td>0.489618</td>\n",
       "      <td>0.645368</td>\n",
       "      <td>0.002856</td>\n",
       "      <td>0.000564</td>\n",
       "      <td>0.416499</td>\n",
       "      <td>0.947687</td>\n",
       "    </tr>\n",
       "    <tr>\n",
       "      <th>25%</th>\n",
       "      <td>2708.250000</td>\n",
       "      <td>36343.500000</td>\n",
       "      <td>703.601250</td>\n",
       "      <td>253.501071</td>\n",
       "      <td>175.927024</td>\n",
       "      <td>1.432985</td>\n",
       "      <td>0.716250</td>\n",
       "      <td>36731.250000</td>\n",
       "      <td>215.113880</td>\n",
       "      <td>0.718778</td>\n",
       "      <td>0.985627</td>\n",
       "      <td>0.833479</td>\n",
       "      <td>0.763378</td>\n",
       "      <td>0.005888</td>\n",
       "      <td>0.001161</td>\n",
       "      <td>0.582747</td>\n",
       "      <td>0.993690</td>\n",
       "    </tr>\n",
       "    <tr>\n",
       "      <th>50%</th>\n",
       "      <td>5416.500000</td>\n",
       "      <td>44645.000000</td>\n",
       "      <td>793.739500</td>\n",
       "      <td>296.377365</td>\n",
       "      <td>192.525040</td>\n",
       "      <td>1.550761</td>\n",
       "      <td>0.764314</td>\n",
       "      <td>45148.000000</td>\n",
       "      <td>238.419335</td>\n",
       "      <td>0.760141</td>\n",
       "      <td>0.988290</td>\n",
       "      <td>0.883472</td>\n",
       "      <td>0.801428</td>\n",
       "      <td>0.006643</td>\n",
       "      <td>0.001700</td>\n",
       "      <td>0.642287</td>\n",
       "      <td>0.996397</td>\n",
       "    </tr>\n",
       "    <tr>\n",
       "      <th>75%</th>\n",
       "      <td>8124.750000</td>\n",
       "      <td>61295.000000</td>\n",
       "      <td>975.517500</td>\n",
       "      <td>376.068399</td>\n",
       "      <td>217.315195</td>\n",
       "      <td>1.703029</td>\n",
       "      <td>0.809450</td>\n",
       "      <td>62251.500000</td>\n",
       "      <td>279.362162</td>\n",
       "      <td>0.786871</td>\n",
       "      <td>0.990014</td>\n",
       "      <td>0.916883</td>\n",
       "      <td>0.834068</td>\n",
       "      <td>0.007268</td>\n",
       "      <td>0.002169</td>\n",
       "      <td>0.695670</td>\n",
       "      <td>0.997895</td>\n",
       "    </tr>\n",
       "    <tr>\n",
       "      <th>max</th>\n",
       "      <td>10833.000000</td>\n",
       "      <td>254616.000000</td>\n",
       "      <td>1985.370000</td>\n",
       "      <td>738.860153</td>\n",
       "      <td>450.926187</td>\n",
       "      <td>2.388873</td>\n",
       "      <td>0.908167</td>\n",
       "      <td>263261.000000</td>\n",
       "      <td>569.374358</td>\n",
       "      <td>0.866195</td>\n",
       "      <td>0.994677</td>\n",
       "      <td>0.990685</td>\n",
       "      <td>0.987303</td>\n",
       "      <td>0.009897</td>\n",
       "      <td>0.003665</td>\n",
       "      <td>0.974767</td>\n",
       "      <td>0.999733</td>\n",
       "    </tr>\n",
       "  </tbody>\n",
       "</table>\n",
       "</div>"
      ],
      "text/plain": [
       "                 ID           Area     Perimeter  MajorAxisLength  \\\n",
       "count  10834.000000   10834.000000  10834.000000     10834.000000   \n",
       "mean    5416.500000   53095.675189    855.274892       320.036169   \n",
       "std     3127.650742   29542.542580    214.991122        85.961630   \n",
       "min        0.000000   20420.000000    524.932000       183.601165   \n",
       "25%     2708.250000   36343.500000    703.601250       253.501071   \n",
       "50%     5416.500000   44645.000000    793.739500       296.377365   \n",
       "75%     8124.750000   61295.000000    975.517500       376.068399   \n",
       "max    10833.000000  254616.000000   1985.370000       738.860153   \n",
       "\n",
       "       MinorAxisLength  AspectRation  Eccentricity     ConvexArea  \\\n",
       "count     10834.000000  10834.000000  10834.000000   10834.000000   \n",
       "mean        202.410342      1.581294      0.750588   53816.205926   \n",
       "std          45.113965      0.244314      0.091481   29999.710739   \n",
       "min         129.576207      1.024868      0.218951   20684.000000   \n",
       "25%         175.927024      1.432985      0.716250   36731.250000   \n",
       "50%         192.525040      1.550761      0.764314   45148.000000   \n",
       "75%         217.315195      1.703029      0.809450   62251.500000   \n",
       "max         450.926187      2.388873      0.908167  263261.000000   \n",
       "\n",
       "       EquivDiameter        Extent      Solidity     roundness   Compactness  \\\n",
       "count   10834.000000  10834.000000  10834.000000  10834.000000  10834.000000   \n",
       "mean      253.123583      0.749937      0.987152      0.873647      0.800244   \n",
       "std        59.433080      0.048949      0.004626      0.059344      0.061228   \n",
       "min       161.243764      0.555315      0.919246      0.489618      0.645368   \n",
       "25%       215.113880      0.718778      0.985627      0.833479      0.763378   \n",
       "50%       238.419335      0.760141      0.988290      0.883472      0.801428   \n",
       "75%       279.362162      0.786871      0.990014      0.916883      0.834068   \n",
       "max       569.374358      0.866195      0.994677      0.990685      0.987303   \n",
       "\n",
       "       ShapeFactor1  ShapeFactor2  ShapeFactor3  ShapeFactor4  \n",
       "count  10834.000000  10834.000000  10834.000000  10834.000000  \n",
       "mean       0.006559      0.001718      0.644139      0.995083  \n",
       "std        0.001127      0.000593      0.098268      0.004306  \n",
       "min        0.002856      0.000564      0.416499      0.947687  \n",
       "25%        0.005888      0.001161      0.582747      0.993690  \n",
       "50%        0.006643      0.001700      0.642287      0.996397  \n",
       "75%        0.007268      0.002169      0.695670      0.997895  \n",
       "max        0.009897      0.003665      0.974767      0.999733  "
      ]
     },
     "execution_count": 6,
     "metadata": {},
     "output_type": "execute_result"
    }
   ],
   "source": [
    "train_data.describe()"
   ]
  },
  {
   "cell_type": "markdown",
   "id": "361d72dd",
   "metadata": {
    "papermill": {
     "duration": 0.031195,
     "end_time": "2021-09-24T23:52:42.560000",
     "exception": false,
     "start_time": "2021-09-24T23:52:42.528805",
     "status": "completed"
    },
    "tags": []
   },
   "source": [
    "> **Tip**: You should _not_ perform too many operations in each cell. Create cells freely to explore your data. One option that you can take with this project is to do a lot of explorations in an initial notebook. These don't have to be organized, but make sure you use enough comments to understand the purpose of each code cell. Then, after you're done with your analysis, create a duplicate notebook where you will trim the excess and organize your steps so that you have a flowing, cohesive report.\n",
    "\n",
    "> **Tip**: Make sure that you keep your reader informed on the steps that you are taking in your investigation. Follow every code cell, or every set of related code cells, with a markdown cell to describe to the reader what was found in the preceding cell(s). Try to make it so that the reader can then understand what they will be seeing in the following cell(s).\n",
    "\n",
    "### Data Cleaning (Replace this with more specific notes!)"
   ]
  },
  {
   "cell_type": "code",
   "execution_count": 7,
   "id": "1dbb0b0b",
   "metadata": {
    "execution": {
     "iopub.execute_input": "2021-09-24T23:52:42.626238Z",
     "iopub.status.busy": "2021-09-24T23:52:42.625683Z",
     "iopub.status.idle": "2021-09-24T23:52:42.628202Z",
     "shell.execute_reply": "2021-09-24T23:52:42.627773Z",
     "shell.execute_reply.started": "2021-09-24T23:49:28.508512Z"
    },
    "papermill": {
     "duration": 0.03717,
     "end_time": "2021-09-24T23:52:42.628363",
     "exception": false,
     "start_time": "2021-09-24T23:52:42.591193",
     "status": "completed"
    },
    "tags": []
   },
   "outputs": [],
   "source": [
    "# After discussing the structure of the data and any problems that need to be\n",
    "#   cleaned, perform those cleaning steps in the second part of this section.\n"
   ]
  },
  {
   "cell_type": "markdown",
   "id": "f0c45135",
   "metadata": {
    "papermill": {
     "duration": 0.030699,
     "end_time": "2021-09-24T23:52:42.690348",
     "exception": false,
     "start_time": "2021-09-24T23:52:42.659649",
     "status": "completed"
    },
    "tags": []
   },
   "source": [
    "<a id='eda'></a>\n",
    "## Exploratory Data Analysis\n",
    "\n",
    "> **Tip**: Now that you've trimmed and cleaned your data, you're ready to move on to exploration. Compute statistics and create visualizations with the goal of addressing the research questions that you posed in the Introduction section. It is recommended that you be systematic with your approach. Look at one variable at a time, and then follow it up by looking at relationships between variables.\n",
    "\n",
    "### Research Question 1 distribution?"
   ]
  },
  {
   "cell_type": "code",
   "execution_count": 8,
   "id": "5c013831",
   "metadata": {
    "execution": {
     "iopub.execute_input": "2021-09-24T23:52:42.771756Z",
     "iopub.status.busy": "2021-09-24T23:52:42.770998Z",
     "iopub.status.idle": "2021-09-24T23:52:47.102980Z",
     "shell.execute_reply": "2021-09-24T23:52:47.102158Z",
     "shell.execute_reply.started": "2021-09-24T23:49:28.513174Z"
    },
    "papermill": {
     "duration": 4.381982,
     "end_time": "2021-09-24T23:52:47.103126",
     "exception": false,
     "start_time": "2021-09-24T23:52:42.721144",
     "status": "completed"
    },
    "tags": []
   },
   "outputs": [
    {
     "data": {
      "image/png": "[encoded data removed]",
      "text/plain": [
       "<Figure size 432x288 with 1 Axes>"
      ]
     },
     "metadata": {},
     "output_type": "display_data"
    },
    {
     "data": {
      "image/png": "[encoded data removed]",
      "text/plain": [
       "<Figure size 432x288 with 1 Axes>"
      ]
     },
     "metadata": {},
     "output_type": "display_data"
    },
    {
     "data": {
      "image/png": "[encoded data removed]",
      "text/plain": [
       "<Figure size 432x288 with 1 Axes>"
      ]
     },
     "metadata": {},
     "output_type": "display_data"
    },
    {
     "data": {
      "image/png": "[encoded data removed]",
      "text/plain": [
       "<Figure size 432x288 with 1 Axes>"
      ]
     },
     "metadata": {},
     "output_type": "display_data"
    },
    {
     "data": {
      "image/png": "[encoded data removed]",
      "text/plain": [
       "<Figure size 432x288 with 1 Axes>"
      ]
     },
     "metadata": {},
     "output_type": "display_data"
    },
    {
     "data": {
      "image/png": "[encoded data removed]",
      "text/plain": [
       "<Figure size 432x288 with 1 Axes>"
      ]
     },
     "metadata": {},
     "output_type": "display_data"
    },
    {
     "data": {
      "image/png": "[encoded data removed]",
      "text/plain": [
       "<Figure size 432x288 with 1 Axes>"
      ]
     },
     "metadata": {},
     "output_type": "display_data"
    },
    {
     "data": {
      "image/png": "[encoded data removed]",
      "text/plain": [
       "<Figure size 432x288 with 1 Axes>"
      ]
     },
     "metadata": {},
     "output_type": "display_data"
    },
    {
     "data": {
      "image/png": "[encoded data removed]",
      "text/plain": [
       "<Figure size 432x288 with 1 Axes>"
      ]
     },
     "metadata": {},
     "output_type": "display_data"
    },
    {
     "data": {
      "image/png": "[encoded data removed]",
      "text/plain": [
       "<Figure size 432x288 with 1 Axes>"
      ]
     },
     "metadata": {},
     "output_type": "display_data"
    },
    {
     "data": {
      "image/png": "[encoded data removed]",
      "text/plain": [
       "<Figure size 432x288 with 1 Axes>"
      ]
     },
     "metadata": {},
     "output_type": "display_data"
    },
    {
     "data": {
      "image/png": "[encoded data removed]",
      "text/plain": [
       "<Figure size 432x288 with 1 Axes>"
      ]
     },
     "metadata": {},
     "output_type": "display_data"
    },
    {
     "data": {
      "image/png": "[encoded data removed]",
      "text/plain": [
       "<Figure size 432x288 with 1 Axes>"
      ]
     },
     "metadata": {},
     "output_type": "display_data"
    },
    {
     "data": {
      "image/png": "[encoded data removed]",
      "text/plain": [
       "<Figure size 432x288 with 1 Axes>"
      ]
     },
     "metadata": {},
     "output_type": "display_data"
    },
    {
     "data": {
      "image/png": "[encoded data removed]",
      "text/plain": [
       "<Figure size 432x288 with 1 Axes>"
      ]
     },
     "metadata": {},
     "output_type": "display_data"
    },
    {
     "data": {
      "image/png": "[encoded data removed]",
      "text/plain": [
       "<Figure size 432x288 with 1 Axes>"
      ]
     },
     "metadata": {},
     "output_type": "display_data"
    },
    {
     "data": {
      "image/png": "[encoded data removed]",
      "text/plain": [
       "<Figure size 432x288 with 1 Axes>"
      ]
     },
     "metadata": {},
     "output_type": "display_data"
    },
    {
     "data": {
      "image/png": "[encoded data removed]",
      "text/plain": [
       "<Figure size 432x288 with 1 Axes>"
      ]
     },
     "metadata": {},
     "output_type": "display_data"
    }
   ],
   "source": [
    "for col in train_data.columns:\n",
    "    plt.hist(train_data[col])\n",
    "    plt.title(col)\n",
    "    plt.show()"
   ]
  },
  {
   "cell_type": "code",
   "execution_count": 9,
   "id": "8afc3af8",
   "metadata": {
    "execution": {
     "iopub.execute_input": "2021-09-24T23:52:47.209944Z",
     "iopub.status.busy": "2021-09-24T23:52:47.208863Z",
     "iopub.status.idle": "2021-09-24T23:52:50.035087Z",
     "shell.execute_reply": "2021-09-24T23:52:50.034334Z",
     "shell.execute_reply.started": "2021-09-24T23:49:32.810631Z"
    },
    "papermill": {
     "duration": 2.888332,
     "end_time": "2021-09-24T23:52:50.035228",
     "exception": false,
     "start_time": "2021-09-24T23:52:47.146896",
     "status": "completed"
    },
    "tags": []
   },
   "outputs": [
    {
     "data": {
      "image/png": "[encoded data removed]",
      "text/plain": [
       "<Figure size 432x288 with 1 Axes>"
      ]
     },
     "metadata": {},
     "output_type": "display_data"
    },
    {
     "data": {
      "image/png": "[encoded data removed]",
      "text/plain": [
       "<Figure size 432x288 with 1 Axes>"
      ]
     },
     "metadata": {},
     "output_type": "display_data"
    },
    {
     "data": {
      "image/png": "[encoded data removed]",
      "text/plain": [
       "<Figure size 432x288 with 1 Axes>"
      ]
     },
     "metadata": {},
     "output_type": "display_data"
    },
    {
     "data": {
      "image/png": "[encoded data removed]",
      "text/plain": [
       "<Figure size 432x288 with 1 Axes>"
      ]
     },
     "metadata": {},
     "output_type": "display_data"
    },
    {
     "data": {
      "image/png": "[encoded data removed]",
      "text/plain": [
       "<Figure size 432x288 with 1 Axes>"
      ]
     },
     "metadata": {},
     "output_type": "display_data"
    },
    {
     "data": {
      "image/png": "[encoded data removed]",
      "text/plain": [
       "<Figure size 432x288 with 1 Axes>"
      ]
     },
     "metadata": {},
     "output_type": "display_data"
    },
    {
     "data": {
      "image/png": "[encoded data removed]",
      "text/plain": [
       "<Figure size 432x288 with 1 Axes>"
      ]
     },
     "metadata": {},
     "output_type": "display_data"
    },
    {
     "data": {
      "image/png": "[encoded data removed]",
      "text/plain": [
       "<Figure size 432x288 with 1 Axes>"
      ]
     },
     "metadata": {},
     "output_type": "display_data"
    },
    {
     "data": {
      "image/png": "[encoded data removed]",
      "text/plain": [
       "<Figure size 432x288 with 1 Axes>"
      ]
     },
     "metadata": {},
     "output_type": "display_data"
    },
    {
     "data": {
      "image/png": "[encoded data removed]",
      "text/plain": [
       "<Figure size 432x288 with 1 Axes>"
      ]
     },
     "metadata": {},
     "output_type": "display_data"
    },
    {
     "data": {
      "image/png": "[encoded data removed]",
      "text/plain": [
       "<Figure size 432x288 with 1 Axes>"
      ]
     },
     "metadata": {},
     "output_type": "display_data"
    },
    {
     "data": {
      "image/png": "[encoded data removed]",
      "text/plain": [
       "<Figure size 432x288 with 1 Axes>"
      ]
     },
     "metadata": {},
     "output_type": "display_data"
    },
    {
     "data": {
      "image/png": "[encoded data removed]",
      "text/plain": [
       "<Figure size 432x288 with 1 Axes>"
      ]
     },
     "metadata": {},
     "output_type": "display_data"
    },
    {
     "data": {
      "image/png": "[encoded data removed]",
      "text/plain": [
       "<Figure size 432x288 with 1 Axes>"
      ]
     },
     "metadata": {},
     "output_type": "display_data"
    },
    {
     "data": {
      "image/png": "[encoded data removed]",
      "text/plain": [
       "<Figure size 432x288 with 1 Axes>"
      ]
     },
     "metadata": {},
     "output_type": "display_data"
    },
    {
     "data": {
      "image/png": "[encoded data removed]",
      "text/plain": [
       "<Figure size 432x288 with 1 Axes>"
      ]
     },
     "metadata": {},
     "output_type": "display_data"
    },
    {
     "data": {
      "image/png": "[encoded data removed]",
      "text/plain": [
       "<Figure size 432x288 with 1 Axes>"
      ]
     },
     "metadata": {},
     "output_type": "display_data"
    }
   ],
   "source": [
    "for col in train_data.columns[:-1]:\n",
    "    sns.boxplot(y=train_data[col])\n",
    "    plt.title(col)\n",
    "    plt.show()"
   ]
  },
  {
   "cell_type": "code",
   "execution_count": 10,
   "id": "61b9fe88",
   "metadata": {
    "execution": {
     "iopub.execute_input": "2021-09-24T23:52:50.146648Z",
     "iopub.status.busy": "2021-09-24T23:52:50.145987Z",
     "iopub.status.idle": "2021-09-24T23:52:50.147629Z",
     "shell.execute_reply": "2021-09-24T23:52:50.148079Z",
     "shell.execute_reply.started": "2021-09-24T23:49:35.129194Z"
    },
    "papermill": {
     "duration": 0.06059,
     "end_time": "2021-09-24T23:52:50.148273",
     "exception": false,
     "start_time": "2021-09-24T23:52:50.087683",
     "status": "completed"
    },
    "tags": []
   },
   "outputs": [],
   "source": [
    "train_df= train_data.drop(columns='ID')\n",
    "test_df= test_data"
   ]
  },
  {
   "cell_type": "code",
   "execution_count": 11,
   "id": "f18bd947",
   "metadata": {
    "execution": {
     "iopub.execute_input": "2021-09-24T23:52:50.258647Z",
     "iopub.status.busy": "2021-09-24T23:52:50.257985Z",
     "iopub.status.idle": "2021-09-24T23:52:50.263737Z",
     "shell.execute_reply": "2021-09-24T23:52:50.263224Z",
     "shell.execute_reply.started": "2021-09-24T23:49:35.141878Z"
    },
    "papermill": {
     "duration": 0.061609,
     "end_time": "2021-09-24T23:52:50.263867",
     "exception": false,
     "start_time": "2021-09-24T23:52:50.202258",
     "status": "completed"
    },
    "tags": []
   },
   "outputs": [
    {
     "data": {
      "text/plain": [
       "Index(['Area', 'Perimeter', 'MajorAxisLength', 'MinorAxisLength',\n",
       "       'AspectRation', 'Eccentricity', 'ConvexArea', 'EquivDiameter', 'Extent',\n",
       "       'Solidity', 'roundness', 'Compactness', 'ShapeFactor1', 'ShapeFactor2',\n",
       "       'ShapeFactor3', 'ShapeFactor4', 'y'],\n",
       "      dtype='object')"
      ]
     },
     "execution_count": 11,
     "metadata": {},
     "output_type": "execute_result"
    }
   ],
   "source": [
    "train_df.columns"
   ]
  },
  {
   "cell_type": "code",
   "execution_count": 12,
   "id": "c160eec8",
   "metadata": {
    "execution": {
     "iopub.execute_input": "2021-09-24T23:52:50.373172Z",
     "iopub.status.busy": "2021-09-24T23:52:50.372469Z",
     "iopub.status.idle": "2021-09-24T23:52:50.626832Z",
     "shell.execute_reply": "2021-09-24T23:52:50.627269Z",
     "shell.execute_reply.started": "2021-09-24T23:49:35.154702Z"
    },
    "papermill": {
     "duration": 0.311005,
     "end_time": "2021-09-24T23:52:50.627443",
     "exception": false,
     "start_time": "2021-09-24T23:52:50.316438",
     "status": "completed"
    },
    "tags": []
   },
   "outputs": [
    {
     "data": {
      "text/plain": [
       "<AxesSubplot:>"
      ]
     },
     "execution_count": 12,
     "metadata": {},
     "output_type": "execute_result"
    },
    {
     "data": {
      "image/png": "[encoded data removed]",
      "text/plain": [
       "<Figure size 432x288 with 1 Axes>"
      ]
     },
     "metadata": {},
     "output_type": "display_data"
    }
   ],
   "source": [
    "test_df.Area.hist()"
   ]
  },
  {
   "cell_type": "code",
   "execution_count": 13,
   "id": "1f737a29",
   "metadata": {
    "execution": {
     "iopub.execute_input": "2021-09-24T23:52:50.757929Z",
     "iopub.status.busy": "2021-09-24T23:52:50.751841Z",
     "iopub.status.idle": "2021-09-24T23:52:50.948043Z",
     "shell.execute_reply": "2021-09-24T23:52:50.948528Z",
     "shell.execute_reply.started": "2021-09-24T23:49:35.415071Z"
    },
    "papermill": {
     "duration": 0.268085,
     "end_time": "2021-09-24T23:52:50.948710",
     "exception": false,
     "start_time": "2021-09-24T23:52:50.680625",
     "status": "completed"
    },
    "tags": []
   },
   "outputs": [
    {
     "data": {
      "text/plain": [
       "<AxesSubplot:>"
      ]
     },
     "execution_count": 13,
     "metadata": {},
     "output_type": "execute_result"
    },
    {
     "data": {
      "image/png": "[encoded data removed]",
      "text/plain": [
       "<Figure size 432x288 with 1 Axes>"
      ]
     },
     "metadata": {},
     "output_type": "display_data"
    }
   ],
   "source": [
    "train_df.Area.hist()"
   ]
  },
  {
   "cell_type": "code",
   "execution_count": 14,
   "id": "c722774b",
   "metadata": {
    "execution": {
     "iopub.execute_input": "2021-09-24T23:52:51.061859Z",
     "iopub.status.busy": "2021-09-24T23:52:51.061137Z",
     "iopub.status.idle": "2021-09-24T23:52:51.327936Z",
     "shell.execute_reply": "2021-09-24T23:52:51.328438Z",
     "shell.execute_reply.started": "2021-09-24T23:49:35.668542Z"
    },
    "papermill": {
     "duration": 0.326432,
     "end_time": "2021-09-24T23:52:51.328613",
     "exception": false,
     "start_time": "2021-09-24T23:52:51.002181",
     "status": "completed"
    },
    "tags": []
   },
   "outputs": [
    {
     "data": {
      "text/plain": [
       "<AxesSubplot:>"
      ]
     },
     "execution_count": 14,
     "metadata": {},
     "output_type": "execute_result"
    },
    {
     "data": {
      "image/png": "[encoded data removed]",
      "text/plain": [
       "<Figure size 432x288 with 1 Axes>"
      ]
     },
     "metadata": {},
     "output_type": "display_data"
    }
   ],
   "source": [
    "test_df['Perimeter'].hist()"
   ]
  },
  {
   "cell_type": "code",
   "execution_count": 15,
   "id": "a676c020",
   "metadata": {
    "execution": {
     "iopub.execute_input": "2021-09-24T23:52:51.449613Z",
     "iopub.status.busy": "2021-09-24T23:52:51.448708Z",
     "iopub.status.idle": "2021-09-24T23:52:51.722952Z",
     "shell.execute_reply": "2021-09-24T23:52:51.722450Z",
     "shell.execute_reply.started": "2021-09-24T23:49:35.969422Z"
    },
    "papermill": {
     "duration": 0.331413,
     "end_time": "2021-09-24T23:52:51.723083",
     "exception": false,
     "start_time": "2021-09-24T23:52:51.391670",
     "status": "completed"
    },
    "tags": []
   },
   "outputs": [
    {
     "data": {
      "text/plain": [
       "<AxesSubplot:>"
      ]
     },
     "execution_count": 15,
     "metadata": {},
     "output_type": "execute_result"
    },
    {
     "data": {
      "image/png": "[encoded data removed]",
      "text/plain": [
       "<Figure size 432x288 with 1 Axes>"
      ]
     },
     "metadata": {},
     "output_type": "display_data"
    }
   ],
   "source": [
    "train_df['MajorAxisLength'].hist()"
   ]
  },
  {
   "cell_type": "code",
   "execution_count": 16,
   "id": "9f2887f4",
   "metadata": {
    "execution": {
     "iopub.execute_input": "2021-09-24T23:52:51.857922Z",
     "iopub.status.busy": "2021-09-24T23:52:51.857303Z",
     "iopub.status.idle": "2021-09-24T23:52:52.058378Z",
     "shell.execute_reply": "2021-09-24T23:52:52.057799Z",
     "shell.execute_reply.started": "2021-09-24T23:49:36.273877Z"
    },
    "papermill": {
     "duration": 0.280226,
     "end_time": "2021-09-24T23:52:52.058513",
     "exception": false,
     "start_time": "2021-09-24T23:52:51.778287",
     "status": "completed"
    },
    "tags": []
   },
   "outputs": [
    {
     "data": {
      "text/plain": [
       "<AxesSubplot:>"
      ]
     },
     "execution_count": 16,
     "metadata": {},
     "output_type": "execute_result"
    },
    {
     "data": {
      "image/png": "[encoded data removed]",
      "text/plain": [
       "<Figure size 432x288 with 1 Axes>"
      ]
     },
     "metadata": {},
     "output_type": "display_data"
    }
   ],
   "source": [
    "test_df['MinorAxisLength'].hist()"
   ]
  },
  {
   "cell_type": "code",
   "execution_count": 17,
   "id": "18c8696b",
   "metadata": {
    "execution": {
     "iopub.execute_input": "2021-09-24T23:52:52.327803Z",
     "iopub.status.busy": "2021-09-24T23:52:52.175051Z",
     "iopub.status.idle": "2021-09-24T23:52:52.550063Z",
     "shell.execute_reply": "2021-09-24T23:52:52.549551Z",
     "shell.execute_reply.started": "2021-09-24T23:49:36.582420Z"
    },
    "papermill": {
     "duration": 0.435798,
     "end_time": "2021-09-24T23:52:52.550199",
     "exception": false,
     "start_time": "2021-09-24T23:52:52.114401",
     "status": "completed"
    },
    "tags": []
   },
   "outputs": [
    {
     "data": {
      "text/plain": [
       "<AxesSubplot:>"
      ]
     },
     "execution_count": 17,
     "metadata": {},
     "output_type": "execute_result"
    },
    {
     "data": {
      "image/png": "[encoded data removed]",
      "text/plain": [
       "<Figure size 432x288 with 1 Axes>"
      ]
     },
     "metadata": {},
     "output_type": "display_data"
    }
   ],
   "source": [
    "train_df['Eccentricity'].hist()"
   ]
  },
  {
   "cell_type": "code",
   "execution_count": 18,
   "id": "f3e67fc1",
   "metadata": {
    "execution": {
     "iopub.execute_input": "2021-09-24T23:52:52.680264Z",
     "iopub.status.busy": "2021-09-24T23:52:52.667858Z",
     "iopub.status.idle": "2021-09-24T23:52:52.873304Z",
     "shell.execute_reply": "2021-09-24T23:52:52.872819Z",
     "shell.execute_reply.started": "2021-09-24T23:49:37.055464Z"
    },
    "papermill": {
     "duration": 0.265429,
     "end_time": "2021-09-24T23:52:52.873443",
     "exception": false,
     "start_time": "2021-09-24T23:52:52.608014",
     "status": "completed"
    },
    "tags": []
   },
   "outputs": [
    {
     "data": {
      "text/plain": [
       "<AxesSubplot:>"
      ]
     },
     "execution_count": 18,
     "metadata": {},
     "output_type": "execute_result"
    },
    {
     "data": {
      "image/png": "[encoded data removed]",
      "text/plain": [
       "<Figure size 432x288 with 1 Axes>"
      ]
     },
     "metadata": {},
     "output_type": "display_data"
    }
   ],
   "source": [
    "train_df['ConvexArea'].hist()"
   ]
  },
  {
   "cell_type": "code",
   "execution_count": 19,
   "id": "dfe56abe",
   "metadata": {
    "execution": {
     "iopub.execute_input": "2021-09-24T23:52:53.001216Z",
     "iopub.status.busy": "2021-09-24T23:52:52.997754Z",
     "iopub.status.idle": "2021-09-24T23:52:53.224557Z",
     "shell.execute_reply": "2021-09-24T23:52:53.224044Z",
     "shell.execute_reply.started": "2021-09-24T23:49:37.345402Z"
    },
    "papermill": {
     "duration": 0.294016,
     "end_time": "2021-09-24T23:52:53.224716",
     "exception": false,
     "start_time": "2021-09-24T23:52:52.930700",
     "status": "completed"
    },
    "tags": []
   },
   "outputs": [
    {
     "data": {
      "text/plain": [
       "<AxesSubplot:>"
      ]
     },
     "execution_count": 19,
     "metadata": {},
     "output_type": "execute_result"
    },
    {
     "data": {
      "image/png": "[encoded data removed]",
      "text/plain": [
       "<Figure size 432x288 with 1 Axes>"
      ]
     },
     "metadata": {},
     "output_type": "display_data"
    }
   ],
   "source": [
    "test_df['EquivDiameter'].hist()"
   ]
  },
  {
   "cell_type": "code",
   "execution_count": 20,
   "id": "5bb39428",
   "metadata": {
    "execution": {
     "iopub.execute_input": "2021-09-24T23:52:53.370626Z",
     "iopub.status.busy": "2021-09-24T23:52:53.369023Z",
     "iopub.status.idle": "2021-09-24T23:52:53.572403Z",
     "shell.execute_reply": "2021-09-24T23:52:53.571889Z",
     "shell.execute_reply.started": "2021-09-24T23:49:37.676986Z"
    },
    "papermill": {
     "duration": 0.288849,
     "end_time": "2021-09-24T23:52:53.572552",
     "exception": false,
     "start_time": "2021-09-24T23:52:53.283703",
     "status": "completed"
    },
    "tags": []
   },
   "outputs": [
    {
     "data": {
      "text/plain": [
       "<AxesSubplot:>"
      ]
     },
     "execution_count": 20,
     "metadata": {},
     "output_type": "execute_result"
    },
    {
     "data": {
      "image/png": "[encoded data removed]",
      "text/plain": [
       "<Figure size 432x288 with 1 Axes>"
      ]
     },
     "metadata": {},
     "output_type": "display_data"
    }
   ],
   "source": [
    "test_df['Extent'].hist()"
   ]
  },
  {
   "cell_type": "code",
   "execution_count": 21,
   "id": "59ce6b5e",
   "metadata": {
    "execution": {
     "iopub.execute_input": "2021-09-24T23:52:53.717531Z",
     "iopub.status.busy": "2021-09-24T23:52:53.711900Z",
     "iopub.status.idle": "2021-09-24T23:52:53.943346Z",
     "shell.execute_reply": "2021-09-24T23:52:53.943798Z",
     "shell.execute_reply.started": "2021-09-24T23:49:37.978149Z"
    },
    "papermill": {
     "duration": 0.310655,
     "end_time": "2021-09-24T23:52:53.944001",
     "exception": false,
     "start_time": "2021-09-24T23:52:53.633346",
     "status": "completed"
    },
    "tags": []
   },
   "outputs": [
    {
     "data": {
      "text/plain": [
       "<AxesSubplot:>"
      ]
     },
     "execution_count": 21,
     "metadata": {},
     "output_type": "execute_result"
    },
    {
     "data": {
      "image/png": "[encoded data removed]",
      "text/plain": [
       "<Figure size 432x288 with 1 Axes>"
      ]
     },
     "metadata": {},
     "output_type": "display_data"
    }
   ],
   "source": [
    "train_df['Solidity'].hist()"
   ]
  },
  {
   "cell_type": "code",
   "execution_count": 22,
   "id": "79f93167",
   "metadata": {
    "execution": {
     "iopub.execute_input": "2021-09-24T23:52:54.082662Z",
     "iopub.status.busy": "2021-09-24T23:52:54.077746Z",
     "iopub.status.idle": "2021-09-24T23:52:54.288937Z",
     "shell.execute_reply": "2021-09-24T23:52:54.289402Z",
     "shell.execute_reply.started": "2021-09-24T23:49:38.298648Z"
    },
    "papermill": {
     "duration": 0.286138,
     "end_time": "2021-09-24T23:52:54.289569",
     "exception": false,
     "start_time": "2021-09-24T23:52:54.003431",
     "status": "completed"
    },
    "tags": []
   },
   "outputs": [
    {
     "data": {
      "text/plain": [
       "<AxesSubplot:>"
      ]
     },
     "execution_count": 22,
     "metadata": {},
     "output_type": "execute_result"
    },
    {
     "data": {
      "image/png": "[encoded data removed]",
      "text/plain": [
       "<Figure size 432x288 with 1 Axes>"
      ]
     },
     "metadata": {},
     "output_type": "display_data"
    }
   ],
   "source": [
    "train_df['roundness'].hist()"
   ]
  },
  {
   "cell_type": "code",
   "execution_count": 23,
   "id": "2deec36a",
   "metadata": {
    "execution": {
     "iopub.execute_input": "2021-09-24T23:52:54.439809Z",
     "iopub.status.busy": "2021-09-24T23:52:54.439131Z",
     "iopub.status.idle": "2021-09-24T23:52:54.724433Z",
     "shell.execute_reply": "2021-09-24T23:52:54.724873Z",
     "shell.execute_reply.started": "2021-09-24T23:49:38.614760Z"
    },
    "papermill": {
     "duration": 0.375129,
     "end_time": "2021-09-24T23:52:54.725041",
     "exception": false,
     "start_time": "2021-09-24T23:52:54.349912",
     "status": "completed"
    },
    "tags": []
   },
   "outputs": [
    {
     "data": {
      "text/plain": [
       "<AxesSubplot:>"
      ]
     },
     "execution_count": 23,
     "metadata": {},
     "output_type": "execute_result"
    },
    {
     "data": {
      "image/png": "[encoded data removed]",
      "text/plain": [
       "<Figure size 432x288 with 1 Axes>"
      ]
     },
     "metadata": {},
     "output_type": "display_data"
    }
   ],
   "source": [
    "train_df['ShapeFactor3'].hist()"
   ]
  },
  {
   "cell_type": "code",
   "execution_count": 24,
   "id": "a2c4236c",
   "metadata": {
    "execution": {
     "iopub.execute_input": "2021-09-24T23:52:54.850214Z",
     "iopub.status.busy": "2021-09-24T23:52:54.849646Z",
     "iopub.status.idle": "2021-09-24T23:52:55.122876Z",
     "shell.execute_reply": "2021-09-24T23:52:55.122381Z",
     "shell.execute_reply.started": "2021-09-24T23:49:38.928249Z"
    },
    "papermill": {
     "duration": 0.337081,
     "end_time": "2021-09-24T23:52:55.123016",
     "exception": false,
     "start_time": "2021-09-24T23:52:54.785935",
     "status": "completed"
    },
    "tags": []
   },
   "outputs": [
    {
     "data": {
      "text/plain": [
       "<AxesSubplot:>"
      ]
     },
     "execution_count": 24,
     "metadata": {},
     "output_type": "execute_result"
    },
    {
     "data": {
      "image/png": "[encoded data removed]",
      "text/plain": [
       "<Figure size 432x288 with 1 Axes>"
      ]
     },
     "metadata": {},
     "output_type": "display_data"
    }
   ],
   "source": [
    "train_df['ShapeFactor4'].hist()"
   ]
  },
  {
   "cell_type": "code",
   "execution_count": null,
   "id": "40576fc7",
   "metadata": {
    "papermill": {
     "duration": 0.063068,
     "end_time": "2021-09-24T23:52:55.251160",
     "exception": false,
     "start_time": "2021-09-24T23:52:55.188092",
     "status": "completed"
    },
    "tags": []
   },
   "outputs": [],
   "source": []
  },
  {
   "cell_type": "markdown",
   "id": "6f5636ae",
   "metadata": {
    "papermill": {
     "duration": 0.062092,
     "end_time": "2021-09-24T23:52:55.375662",
     "exception": false,
     "start_time": "2021-09-24T23:52:55.313570",
     "status": "completed"
    },
    "tags": []
   },
   "source": [
    "**Splitting data**"
   ]
  },
  {
   "cell_type": "code",
   "execution_count": 25,
   "id": "8f273874",
   "metadata": {
    "execution": {
     "iopub.execute_input": "2021-09-24T23:52:55.505975Z",
     "iopub.status.busy": "2021-09-24T23:52:55.505368Z",
     "iopub.status.idle": "2021-09-24T23:52:55.685034Z",
     "shell.execute_reply": "2021-09-24T23:52:55.684490Z",
     "shell.execute_reply.started": "2021-09-24T23:49:39.244792Z"
    },
    "papermill": {
     "duration": 0.246616,
     "end_time": "2021-09-24T23:52:55.685169",
     "exception": false,
     "start_time": "2021-09-24T23:52:55.438553",
     "status": "completed"
    },
    "tags": []
   },
   "outputs": [],
   "source": [
    "from sklearn.preprocessing import StandardScaler\n",
    "from sklearn.preprocessing import Normalizer\n",
    "from sklearn.preprocessing import MinMaxScaler\n",
    "from sklearn.model_selection import train_test_split"
   ]
  },
  {
   "cell_type": "code",
   "execution_count": 26,
   "id": "9605b8ea",
   "metadata": {
    "execution": {
     "iopub.execute_input": "2021-09-24T23:52:55.814171Z",
     "iopub.status.busy": "2021-09-24T23:52:55.813589Z",
     "iopub.status.idle": "2021-09-24T23:52:55.830591Z",
     "shell.execute_reply": "2021-09-24T23:52:55.830987Z",
     "shell.execute_reply.started": "2021-09-24T23:49:39.451297Z"
    },
    "papermill": {
     "duration": 0.082791,
     "end_time": "2021-09-24T23:52:55.831162",
     "exception": false,
     "start_time": "2021-09-24T23:52:55.748371",
     "status": "completed"
    },
    "tags": []
   },
   "outputs": [
    {
     "data": {
      "text/html": [
       "<div>\n",
       "<style scoped>\n",
       "    .dataframe tbody tr th:only-of-type {\n",
       "        vertical-align: middle;\n",
       "    }\n",
       "\n",
       "    .dataframe tbody tr th {\n",
       "        vertical-align: top;\n",
       "    }\n",
       "\n",
       "    .dataframe thead th {\n",
       "        text-align: right;\n",
       "    }\n",
       "</style>\n",
       "<table border=\"1\" class=\"dataframe\">\n",
       "  <thead>\n",
       "    <tr style=\"text-align: right;\">\n",
       "      <th></th>\n",
       "      <th>Area</th>\n",
       "      <th>Perimeter</th>\n",
       "      <th>MajorAxisLength</th>\n",
       "      <th>MinorAxisLength</th>\n",
       "      <th>AspectRation</th>\n",
       "      <th>Eccentricity</th>\n",
       "      <th>ConvexArea</th>\n",
       "      <th>EquivDiameter</th>\n",
       "      <th>Extent</th>\n",
       "      <th>Solidity</th>\n",
       "      <th>roundness</th>\n",
       "      <th>Compactness</th>\n",
       "      <th>ShapeFactor1</th>\n",
       "      <th>ShapeFactor2</th>\n",
       "      <th>ShapeFactor3</th>\n",
       "      <th>ShapeFactor4</th>\n",
       "      <th>y</th>\n",
       "    </tr>\n",
       "  </thead>\n",
       "  <tbody>\n",
       "    <tr>\n",
       "      <th>0</th>\n",
       "      <td>58238</td>\n",
       "      <td>971.303</td>\n",
       "      <td>397.202654</td>\n",
       "      <td>186.945510</td>\n",
       "      <td>2.124697</td>\n",
       "      <td>0.882317</td>\n",
       "      <td>58977</td>\n",
       "      <td>272.306674</td>\n",
       "      <td>0.604756</td>\n",
       "      <td>0.987470</td>\n",
       "      <td>0.775723</td>\n",
       "      <td>0.685561</td>\n",
       "      <td>0.006820</td>\n",
       "      <td>0.000929</td>\n",
       "      <td>0.469994</td>\n",
       "      <td>0.998595</td>\n",
       "      <td>HOROZ</td>\n",
       "    </tr>\n",
       "    <tr>\n",
       "      <th>1</th>\n",
       "      <td>44515</td>\n",
       "      <td>757.601</td>\n",
       "      <td>265.590470</td>\n",
       "      <td>213.967453</td>\n",
       "      <td>1.241266</td>\n",
       "      <td>0.592420</td>\n",
       "      <td>44780</td>\n",
       "      <td>238.071960</td>\n",
       "      <td>0.771745</td>\n",
       "      <td>0.994082</td>\n",
       "      <td>0.974620</td>\n",
       "      <td>0.896387</td>\n",
       "      <td>0.005966</td>\n",
       "      <td>0.002376</td>\n",
       "      <td>0.803510</td>\n",
       "      <td>0.997370</td>\n",
       "      <td>SEKER</td>\n",
       "    </tr>\n",
       "    <tr>\n",
       "      <th>2</th>\n",
       "      <td>31662</td>\n",
       "      <td>653.783</td>\n",
       "      <td>239.902428</td>\n",
       "      <td>168.421505</td>\n",
       "      <td>1.424417</td>\n",
       "      <td>0.712136</td>\n",
       "      <td>32034</td>\n",
       "      <td>200.781748</td>\n",
       "      <td>0.801407</td>\n",
       "      <td>0.988387</td>\n",
       "      <td>0.930853</td>\n",
       "      <td>0.836931</td>\n",
       "      <td>0.007577</td>\n",
       "      <td>0.002293</td>\n",
       "      <td>0.700453</td>\n",
       "      <td>0.997737</td>\n",
       "      <td>DERMASON</td>\n",
       "    </tr>\n",
       "    <tr>\n",
       "      <th>3</th>\n",
       "      <td>38778</td>\n",
       "      <td>734.020</td>\n",
       "      <td>268.446281</td>\n",
       "      <td>184.061923</td>\n",
       "      <td>1.458456</td>\n",
       "      <td>0.727925</td>\n",
       "      <td>39208</td>\n",
       "      <td>222.201897</td>\n",
       "      <td>0.766137</td>\n",
       "      <td>0.989033</td>\n",
       "      <td>0.904439</td>\n",
       "      <td>0.827733</td>\n",
       "      <td>0.006923</td>\n",
       "      <td>0.002005</td>\n",
       "      <td>0.685142</td>\n",
       "      <td>0.999250</td>\n",
       "      <td>DERMASON</td>\n",
       "    </tr>\n",
       "    <tr>\n",
       "      <th>4</th>\n",
       "      <td>42530</td>\n",
       "      <td>775.403</td>\n",
       "      <td>281.212824</td>\n",
       "      <td>193.236878</td>\n",
       "      <td>1.455275</td>\n",
       "      <td>0.726511</td>\n",
       "      <td>43028</td>\n",
       "      <td>232.703412</td>\n",
       "      <td>0.729816</td>\n",
       "      <td>0.988426</td>\n",
       "      <td>0.888895</td>\n",
       "      <td>0.827499</td>\n",
       "      <td>0.006612</td>\n",
       "      <td>0.001912</td>\n",
       "      <td>0.684755</td>\n",
       "      <td>0.996507</td>\n",
       "      <td>SIRA</td>\n",
       "    </tr>\n",
       "  </tbody>\n",
       "</table>\n",
       "</div>"
      ],
      "text/plain": [
       "    Area  Perimeter  MajorAxisLength  MinorAxisLength  AspectRation  \\\n",
       "0  58238    971.303       397.202654       186.945510      2.124697   \n",
       "1  44515    757.601       265.590470       213.967453      1.241266   \n",
       "2  31662    653.783       239.902428       168.421505      1.424417   \n",
       "3  38778    734.020       268.446281       184.061923      1.458456   \n",
       "4  42530    775.403       281.212824       193.236878      1.455275   \n",
       "\n",
       "   Eccentricity  ConvexArea  EquivDiameter    Extent  Solidity  roundness  \\\n",
       "0      0.882317       58977     272.306674  0.604756  0.987470   0.775723   \n",
       "1      0.592420       44780     238.071960  0.771745  0.994082   0.974620   \n",
       "2      0.712136       32034     200.781748  0.801407  0.988387   0.930853   \n",
       "3      0.727925       39208     222.201897  0.766137  0.989033   0.904439   \n",
       "4      0.726511       43028     232.703412  0.729816  0.988426   0.888895   \n",
       "\n",
       "   Compactness  ShapeFactor1  ShapeFactor2  ShapeFactor3  ShapeFactor4  \\\n",
       "0     0.685561      0.006820      0.000929      0.469994      0.998595   \n",
       "1     0.896387      0.005966      0.002376      0.803510      0.997370   \n",
       "2     0.836931      0.007577      0.002293      0.700453      0.997737   \n",
       "3     0.827733      0.006923      0.002005      0.685142      0.999250   \n",
       "4     0.827499      0.006612      0.001912      0.684755      0.996507   \n",
       "\n",
       "          y  \n",
       "0     HOROZ  \n",
       "1     SEKER  \n",
       "2  DERMASON  \n",
       "3  DERMASON  \n",
       "4      SIRA  "
      ]
     },
     "execution_count": 26,
     "metadata": {},
     "output_type": "execute_result"
    }
   ],
   "source": [
    "train_df.head()"
   ]
  },
  {
   "cell_type": "code",
   "execution_count": 27,
   "id": "bdeb9418",
   "metadata": {
    "execution": {
     "iopub.execute_input": "2021-09-24T23:52:55.959743Z",
     "iopub.status.busy": "2021-09-24T23:52:55.959063Z",
     "iopub.status.idle": "2021-09-24T23:52:55.964939Z",
     "shell.execute_reply": "2021-09-24T23:52:55.965393Z",
     "shell.execute_reply.started": "2021-09-24T23:49:39.478850Z"
    },
    "papermill": {
     "duration": 0.071751,
     "end_time": "2021-09-24T23:52:55.965571",
     "exception": false,
     "start_time": "2021-09-24T23:52:55.893820",
     "status": "completed"
    },
    "tags": []
   },
   "outputs": [],
   "source": [
    "X= train_df.drop(columns='y')\n",
    "y= train_df.y"
   ]
  },
  {
   "cell_type": "code",
   "execution_count": 28,
   "id": "11281bc7",
   "metadata": {
    "execution": {
     "iopub.execute_input": "2021-09-24T23:52:56.097611Z",
     "iopub.status.busy": "2021-09-24T23:52:56.096947Z",
     "iopub.status.idle": "2021-09-24T23:52:56.103781Z",
     "shell.execute_reply": "2021-09-24T23:52:56.104391Z",
     "shell.execute_reply.started": "2021-09-24T23:49:39.491115Z"
    },
    "papermill": {
     "duration": 0.074157,
     "end_time": "2021-09-24T23:52:56.104569",
     "exception": false,
     "start_time": "2021-09-24T23:52:56.030412",
     "status": "completed"
    },
    "tags": []
   },
   "outputs": [
    {
     "data": {
      "text/plain": [
       "Area               20420.000000\n",
       "Perimeter            524.932000\n",
       "MajorAxisLength      183.601165\n",
       "MinorAxisLength      129.576207\n",
       "AspectRation           1.024868\n",
       "Eccentricity           0.218951\n",
       "ConvexArea         20684.000000\n",
       "EquivDiameter        161.243764\n",
       "Extent                 0.555315\n",
       "Solidity               0.919246\n",
       "roundness              0.489618\n",
       "Compactness            0.645368\n",
       "ShapeFactor1           0.002856\n",
       "ShapeFactor2           0.000564\n",
       "ShapeFactor3           0.416499\n",
       "ShapeFactor4           0.947687\n",
       "dtype: float64"
      ]
     },
     "execution_count": 28,
     "metadata": {},
     "output_type": "execute_result"
    }
   ],
   "source": [
    "X.min()"
   ]
  },
  {
   "cell_type": "code",
   "execution_count": 29,
   "id": "5b0514d5",
   "metadata": {
    "execution": {
     "iopub.execute_input": "2021-09-24T23:52:56.239493Z",
     "iopub.status.busy": "2021-09-24T23:52:56.234562Z",
     "iopub.status.idle": "2021-09-24T23:52:56.469085Z",
     "shell.execute_reply": "2021-09-24T23:52:56.468554Z",
     "shell.execute_reply.started": "2021-09-24T23:49:58.166973Z"
    },
    "papermill": {
     "duration": 0.300646,
     "end_time": "2021-09-24T23:52:56.469225",
     "exception": false,
     "start_time": "2021-09-24T23:52:56.168579",
     "status": "completed"
    },
    "tags": []
   },
   "outputs": [
    {
     "name": "stdout",
     "output_type": "stream",
     "text": [
      "X_train shape is  (8667, 16)\n",
      "X_test shape is  (2167, 16)\n",
      "y_train shape is  (8667,)\n",
      "y_test shape is  (2167,)\n"
     ]
    }
   ],
   "source": [
    "#----------------------------------------------------\n",
    "#Standard Scaler for Data\n",
    "from sklearn.preprocessing import QuantileTransformer\n",
    "# scaler = MinMaxScaler(copy=True, feature_range=(0, 1))\n",
    "# X = scaler.fit_transform(X)\n",
    "Quantile = QuantileTransformer(output_distribution='normal')\n",
    "X = Quantile.fit_transform(X)\n",
    "test_X=Quantile.fit_transform(test_df.drop(columns='ID'))\n",
    "\n",
    "#showing data\n",
    "#print('X \\n' , X[:10])\n",
    "#print('y \\n' , y[:10])\n",
    "\n",
    "#----------------------------------------------------\n",
    "#Splitting data\n",
    "\n",
    "X_train, X_valid, y_train, y_valid = train_test_split(X, y, test_size=0.2, random_state=44, shuffle =True)\n",
    "\n",
    "#Splitted Data\n",
    "print('X_train shape is ' , X_train.shape)\n",
    "print('X_test shape is ' , X_valid.shape)\n",
    "print('y_train shape is ' , y_train.shape)\n",
    "print('y_test shape is ' , y_valid.shape)"
   ]
  },
  {
   "cell_type": "code",
   "execution_count": 30,
   "id": "a3e1bef5",
   "metadata": {
    "execution": {
     "iopub.execute_input": "2021-09-24T23:52:56.601027Z",
     "iopub.status.busy": "2021-09-24T23:52:56.600393Z",
     "iopub.status.idle": "2021-09-24T23:52:56.603962Z",
     "shell.execute_reply": "2021-09-24T23:52:56.604455Z",
     "shell.execute_reply.started": "2021-09-24T23:50:01.161540Z"
    },
    "papermill": {
     "duration": 0.071594,
     "end_time": "2021-09-24T23:52:56.604621",
     "exception": false,
     "start_time": "2021-09-24T23:52:56.533027",
     "status": "completed"
    },
    "tags": []
   },
   "outputs": [
    {
     "data": {
      "text/plain": [
       "-5.199337582605575"
      ]
     },
     "execution_count": 30,
     "metadata": {},
     "output_type": "execute_result"
    }
   ],
   "source": [
    "X.min()"
   ]
  },
  {
   "cell_type": "markdown",
   "id": "cdcbc218",
   "metadata": {
    "papermill": {
     "duration": 0.064858,
     "end_time": "2021-09-24T23:52:56.733329",
     "exception": false,
     "start_time": "2021-09-24T23:52:56.668471",
     "status": "completed"
    },
    "tags": []
   },
   "source": [
    "**Model training**"
   ]
  },
  {
   "cell_type": "code",
   "execution_count": 31,
   "id": "fe8d3b29",
   "metadata": {
    "execution": {
     "iopub.execute_input": "2021-09-24T23:52:56.866620Z",
     "iopub.status.busy": "2021-09-24T23:52:56.866009Z",
     "iopub.status.idle": "2021-09-24T23:52:57.074548Z",
     "shell.execute_reply": "2021-09-24T23:52:57.075080Z",
     "shell.execute_reply.started": "2021-09-24T23:50:02.077306Z"
    },
    "papermill": {
     "duration": 0.276374,
     "end_time": "2021-09-24T23:52:57.075274",
     "exception": false,
     "start_time": "2021-09-24T23:52:56.798900",
     "status": "completed"
    },
    "tags": []
   },
   "outputs": [],
   "source": [
    "#importing libraries\n",
    "from sklearn.naive_bayes import GaussianNB\n",
    "from sklearn.ensemble import RandomForestClassifier\n",
    "from sklearn.ensemble import GradientBoostingClassifier"
   ]
  },
  {
   "cell_type": "code",
   "execution_count": 32,
   "id": "0d929beb",
   "metadata": {
    "execution": {
     "iopub.execute_input": "2021-09-24T23:52:57.219864Z",
     "iopub.status.busy": "2021-09-24T23:52:57.219201Z",
     "iopub.status.idle": "2021-09-24T23:54:34.636632Z",
     "shell.execute_reply": "2021-09-24T23:54:34.636082Z",
     "shell.execute_reply.started": "2021-09-24T23:50:02.307608Z"
    },
    "papermill": {
     "duration": 97.496938,
     "end_time": "2021-09-24T23:54:34.636777",
     "exception": false,
     "start_time": "2021-09-24T23:52:57.139839",
     "status": "completed"
    },
    "tags": []
   },
   "outputs": [
    {
     "name": "stdout",
     "output_type": "stream",
     "text": [
      "VotingClassifierModel Train Score is :  0.9884619822314527\n",
      "VotingClassifierModel Test Score is :  0.9317028149515459\n"
     ]
    }
   ],
   "source": [
    "# #Applying VotingClassifier Model \n",
    "from sklearn.svm import SVC\n",
    "from sklearn.ensemble import GradientBoostingClassifier\n",
    "from sklearn.ensemble import VotingClassifier\n",
    "from sklearn.ensemble import RandomForestClassifier\n",
    "clf1 = RandomForestClassifier(criterion='entropy', n_estimators=300, max_depth=15, random_state=33)\n",
    "clf2 = SVC(C=1,kernel=\"rbf\",gamma=.2)\n",
    "clf3 = GradientBoostingClassifier(n_estimators=200)\n",
    "#loading Voting Classifier\n",
    "VotingClassifierModel = VotingClassifier(estimators=[('RFModel',clf1),('SVCModel',clf2),('Gradient Boosting',clf3)], voting='hard')\n",
    "VotingClassifierModel.fit(X_train, y_train)\n",
    "\n",
    "#Calculating Details\n",
    "print('VotingClassifierModel Train Score is : ' , VotingClassifierModel.score(X_train, y_train))\n",
    "print('VotingClassifierModel Test Score is : ' , VotingClassifierModel.score(X_valid, y_valid))\n",
    "#print('----------------------------------------------------')\n",
    "\n",
    "#Calculating Prediction\n",
    "y_pred = VotingClassifierModel.predict(X_valid)\n",
    "#print('Predicted Value for VotingClassifierModel is : ' , y_pred[:10])"
   ]
  },
  {
   "cell_type": "code",
   "execution_count": 33,
   "id": "9e194f73",
   "metadata": {
    "execution": {
     "iopub.execute_input": "2021-09-24T23:54:34.775526Z",
     "iopub.status.busy": "2021-09-24T23:54:34.774616Z",
     "iopub.status.idle": "2021-09-24T23:54:34.778177Z",
     "shell.execute_reply": "2021-09-24T23:54:34.777659Z",
     "shell.execute_reply.started": "2021-09-24T23:51:41.645693Z"
    },
    "papermill": {
     "duration": 0.076103,
     "end_time": "2021-09-24T23:54:34.778328",
     "exception": false,
     "start_time": "2021-09-24T23:54:34.702225",
     "status": "completed"
    },
    "tags": []
   },
   "outputs": [
    {
     "name": "stdout",
     "output_type": "stream",
     "text": [
      "Accuracy Score is :  0.9317028149515459\n"
     ]
    }
   ],
   "source": [
    "#Calculating Accuracy Score  : ((TP + TN) / float(TP + TN + FP + FN))\n",
    "from sklearn.metrics import accuracy_score\n",
    "AccScore = accuracy_score(y_valid, y_pred)\n",
    "print('Accuracy Score is : ', AccScore)"
   ]
  },
  {
   "cell_type": "code",
   "execution_count": 34,
   "id": "f7bc479a",
   "metadata": {
    "execution": {
     "iopub.execute_input": "2021-09-24T23:54:34.913709Z",
     "iopub.status.busy": "2021-09-24T23:54:34.913018Z",
     "iopub.status.idle": "2021-09-24T23:54:34.916764Z",
     "shell.execute_reply": "2021-09-24T23:54:34.916297Z",
     "shell.execute_reply.started": "2021-09-24T23:52:10.668706Z"
    },
    "papermill": {
     "duration": 0.07415,
     "end_time": "2021-09-24T23:54:34.916903",
     "exception": false,
     "start_time": "2021-09-24T23:54:34.842753",
     "status": "completed"
    },
    "tags": []
   },
   "outputs": [
    {
     "data": {
      "text/plain": [
       "DERMASON    589\n",
       "SIRA        413\n",
       "SEKER       317\n",
       "HOROZ       294\n",
       "CALI        256\n",
       "BARBUNYA    198\n",
       "BOMBAY      100\n",
       "Name: y, dtype: int64"
      ]
     },
     "execution_count": 34,
     "metadata": {},
     "output_type": "execute_result"
    }
   ],
   "source": [
    "y_valid.value_counts()"
   ]
  },
  {
   "cell_type": "code",
   "execution_count": 35,
   "id": "fd29a601",
   "metadata": {
    "execution": {
     "iopub.execute_input": "2021-09-24T23:54:35.060686Z",
     "iopub.status.busy": "2021-09-24T23:54:35.059680Z",
     "iopub.status.idle": "2021-09-24T23:54:35.495890Z",
     "shell.execute_reply": "2021-09-24T23:54:35.494930Z",
     "shell.execute_reply.started": "2021-09-24T23:52:12.140774Z"
    },
    "papermill": {
     "duration": 0.514645,
     "end_time": "2021-09-24T23:54:35.496037",
     "exception": false,
     "start_time": "2021-09-24T23:54:34.981392",
     "status": "completed"
    },
    "tags": []
   },
   "outputs": [
    {
     "name": "stdout",
     "output_type": "stream",
     "text": [
      "Confusion Matrix is : \n",
      " [[186   0   8   0   0   1   3]\n",
      " [  0 100   0   0   0   0   0]\n",
      " [  7   0 244   0   3   1   1]\n",
      " [  0   0   0 547   0   8  34]\n",
      " [  1   0   2   4 279   0   8]\n",
      " [  4   0   0   3   0 301   9]\n",
      " [  2   0   1  39   8   1 362]]\n"
     ]
    },
    {
     "data": {
      "image/png": "[encoded data removed]",
      "text/plain": [
       "<Figure size 432x288 with 2 Axes>"
      ]
     },
     "metadata": {},
     "output_type": "display_data"
    }
   ],
   "source": [
    "from sklearn.metrics import confusion_matrix\n",
    "#Calculating Confusion Matrix\n",
    "CM = confusion_matrix(y_valid, y_pred)\n",
    "print('Confusion Matrix is : \\n', CM)\n",
    "\n",
    "# drawing confusion matrix\n",
    "sns.heatmap(CM, center = True, cmap='RdYlBu', annot=True)\n",
    "plt.show()"
   ]
  },
  {
   "cell_type": "code",
   "execution_count": 36,
   "id": "31d508b9",
   "metadata": {
    "execution": {
     "iopub.execute_input": "2021-09-24T23:54:35.685855Z",
     "iopub.status.busy": "2021-09-24T23:54:35.685211Z",
     "iopub.status.idle": "2021-09-24T23:54:35.691682Z",
     "shell.execute_reply": "2021-09-24T23:54:35.691162Z",
     "shell.execute_reply.started": "2021-09-24T23:52:12.653433Z"
    },
    "papermill": {
     "duration": 0.128977,
     "end_time": "2021-09-24T23:54:35.691831",
     "exception": false,
     "start_time": "2021-09-24T23:54:35.562854",
     "status": "completed"
    },
    "tags": []
   },
   "outputs": [
    {
     "name": "stdout",
     "output_type": "stream",
     "text": [
      "Classification Report is : \n",
      "               precision    recall  f1-score   support\n",
      "\n",
      "    BARBUNYA       0.93      0.94      0.93       198\n",
      "      BOMBAY       1.00      1.00      1.00       100\n",
      "        CALI       0.96      0.95      0.95       256\n",
      "    DERMASON       0.92      0.93      0.93       589\n",
      "       HOROZ       0.96      0.95      0.96       294\n",
      "       SEKER       0.96      0.95      0.96       317\n",
      "        SIRA       0.87      0.88      0.87       413\n",
      "\n",
      "    accuracy                           0.93      2167\n",
      "   macro avg       0.94      0.94      0.94      2167\n",
      "weighted avg       0.93      0.93      0.93      2167\n",
      "\n"
     ]
    }
   ],
   "source": [
    "from sklearn.metrics import classification_report\n",
    "#Calculating classification Report :  \n",
    "#classification_report(y_true, y_pred, labels=None, target_names=None,sample_weight=None, digits=2, output_dict=False)\n",
    "\n",
    "ClassificationReport = classification_report(y_valid,y_pred)\n",
    "print('Classification Report is : \\n', ClassificationReport )"
   ]
  },
  {
   "cell_type": "code",
   "execution_count": 37,
   "id": "df98b133",
   "metadata": {
    "execution": {
     "iopub.execute_input": "2021-09-24T23:54:35.830946Z",
     "iopub.status.busy": "2021-09-24T23:54:35.829956Z",
     "iopub.status.idle": "2021-09-24T23:54:36.355993Z",
     "shell.execute_reply": "2021-09-24T23:54:36.354861Z",
     "shell.execute_reply.started": "2021-09-24T23:52:12.756117Z"
    },
    "papermill": {
     "duration": 0.597054,
     "end_time": "2021-09-24T23:54:36.356158",
     "exception": false,
     "start_time": "2021-09-24T23:54:35.759104",
     "status": "completed"
    },
    "tags": []
   },
   "outputs": [],
   "source": [
    "y_out=VotingClassifierModel.predict(test_X)\n",
    "test_df['y']=y_out\n",
    "test_df[['ID', 'y']].to_csv('submission2.csv', index = False)"
   ]
  },
  {
   "cell_type": "code",
   "execution_count": 38,
   "id": "f536181f",
   "metadata": {
    "execution": {
     "iopub.execute_input": "2021-09-24T23:54:36.494237Z",
     "iopub.status.busy": "2021-09-24T23:54:36.493358Z",
     "iopub.status.idle": "2021-09-24T23:54:36.496371Z",
     "shell.execute_reply": "2021-09-24T23:54:36.495784Z",
     "shell.execute_reply.started": "2021-09-24T23:51:41.704201Z"
    },
    "papermill": {
     "duration": 0.074441,
     "end_time": "2021-09-24T23:54:36.496519",
     "exception": false,
     "start_time": "2021-09-24T23:54:36.422078",
     "status": "completed"
    },
    "tags": []
   },
   "outputs": [],
   "source": [
    "# from sklearn.model_selection import GridSearchCV\n",
    "# #Applying Grid Searching :  \n",
    "# '''\n",
    "# model_selection.GridSearchCV(estimator, param_grid, scoring=None,fit_params=None, n_jobs=None, iid=’warn’,\n",
    "#                              refit=True, cv=’warn’, verbose=0,pre_dispatch=‘2*n_jobs’, error_score=\n",
    "#                              ’raisedeprecating’,return_train_score=’warn’)\n",
    "\n",
    "# '''\n",
    "\n",
    "# #=======================================================================\n",
    "# #Example : \n",
    "# #from sklearn.svm import SVR\n",
    "# SelectedModel = RandomForestClassifier(criterion = 'gini',n_estimators=100,max_depth=5,random_state=33)\n",
    "# SelectedParameters = {'criterion':('gini', 'entropy'), 'max_depth':[2,3,4,5,6,7,8,9]}\n",
    "# #=======================================================================\n",
    "# GridSearchModel = GridSearchCV(SelectedModel,SelectedParameters, cv = 5,return_train_score=True)\n",
    "# GridSearchModel.fit(X_train, y_train)\n",
    "# sorted(GridSearchModel.cv_results_.keys())\n",
    "# GridSearchResults = pd.DataFrame(GridSearchModel.cv_results_)[['mean_test_score', 'std_test_score', 'params' , 'rank_test_score' , 'mean_fit_time']]\n",
    "\n",
    "# # Showing Results\n",
    "# #print('All Results are :\\n', GridSearchResults )\n",
    "# print('Best Score is :', GridSearchModel.best_score_)\n",
    "# print('Best Parameters are :', GridSearchModel.best_params_)\n",
    "# print('Best Estimator is :', GridSearchModel.best_estimator_)"
   ]
  },
  {
   "cell_type": "code",
   "execution_count": 39,
   "id": "8401edce",
   "metadata": {
    "execution": {
     "iopub.execute_input": "2021-09-24T23:54:36.632753Z",
     "iopub.status.busy": "2021-09-24T23:54:36.631993Z",
     "iopub.status.idle": "2021-09-24T23:54:36.634530Z",
     "shell.execute_reply": "2021-09-24T23:54:36.634947Z",
     "shell.execute_reply.started": "2021-09-24T23:51:41.705765Z"
    },
    "papermill": {
     "duration": 0.072293,
     "end_time": "2021-09-24T23:54:36.635117",
     "exception": false,
     "start_time": "2021-09-24T23:54:36.562824",
     "status": "completed"
    },
    "tags": []
   },
   "outputs": [],
   "source": [
    "# Use this, and more code cells, to explore your data. Don't forget to add\n",
    "#   Markdown cells to document your observations and findings.\n"
   ]
  },
  {
   "cell_type": "markdown",
   "id": "75c47599",
   "metadata": {
    "papermill": {
     "duration": 0.065908,
     "end_time": "2021-09-24T23:54:36.767177",
     "exception": false,
     "start_time": "2021-09-24T23:54:36.701269",
     "status": "completed"
    },
    "tags": []
   },
   "source": [
    "### Research Question 2  (Replace this header name!)"
   ]
  },
  {
   "cell_type": "code",
   "execution_count": 40,
   "id": "a5fb5085",
   "metadata": {
    "execution": {
     "iopub.execute_input": "2021-09-24T23:54:36.904422Z",
     "iopub.status.busy": "2021-09-24T23:54:36.903494Z",
     "iopub.status.idle": "2021-09-24T23:54:36.906606Z",
     "shell.execute_reply": "2021-09-24T23:54:36.907020Z",
     "shell.execute_reply.started": "2021-09-24T23:49:39.887264Z"
    },
    "papermill": {
     "duration": 0.07271,
     "end_time": "2021-09-24T23:54:36.907185",
     "exception": false,
     "start_time": "2021-09-24T23:54:36.834475",
     "status": "completed"
    },
    "tags": []
   },
   "outputs": [],
   "source": [
    "# Continue to explore the data to address your additional research\n",
    "#   questions. Add more headers as needed if you have more questions to\n",
    "#   investigate.\n"
   ]
  },
  {
   "cell_type": "markdown",
   "id": "d7409665",
   "metadata": {
    "papermill": {
     "duration": 0.06688,
     "end_time": "2021-09-24T23:54:37.039958",
     "exception": false,
     "start_time": "2021-09-24T23:54:36.973078",
     "status": "completed"
    },
    "tags": []
   },
   "source": [
    "<a id='conclusions'></a>\n",
    "## Conclusions\n",
    "\n",
    "> **Tip**: Finally, summarize your findings and the results that have been performed. Make sure that you are clear with regards to the limitations of your exploration. If you haven't done any statistical tests, do not imply any statistical conclusions. And make sure you avoid implying causation from correlation!\n",
    "\n",
    "> **Tip**: Once you are satisfied with your work, you should save a copy of the report in HTML or PDF form via the **File** > **Download as** submenu. Before exporting your report, check over it to make sure that the flow of the report is complete. You should probably remove all of the \"Tip\" quotes like this one so that the presentation is as tidy as possible. Congratulations!"
   ]
  },
  {
   "cell_type": "code",
   "execution_count": null,
   "id": "b54442dd",
   "metadata": {
    "collapsed": true,
    "jupyter": {
     "outputs_hidden": true
    },
    "papermill": {
     "duration": 0.065782,
     "end_time": "2021-09-24T23:54:37.172021",
     "exception": false,
     "start_time": "2021-09-24T23:54:37.106239",
     "status": "completed"
    },
    "tags": []
   },
   "outputs": [],
   "source": []
  },
  {
   "cell_type": "code",
   "execution_count": null,
   "id": "cfca2c12",
   "metadata": {
    "papermill": {
     "duration": 0.065884,
     "end_time": "2021-09-24T23:54:37.305450",
     "exception": false,
     "start_time": "2021-09-24T23:54:37.239566",
     "status": "completed"
    },
    "tags": []
   },
   "outputs": [],
   "source": []
  },
  {
   "cell_type": "code",
   "execution_count": null,
   "id": "fd94599f",
   "metadata": {
    "papermill": {
     "duration": 0.065805,
     "end_time": "2021-09-24T23:54:37.437528",
     "exception": false,
     "start_time": "2021-09-24T23:54:37.371723",
     "status": "completed"
    },
    "tags": []
   },
   "outputs": [],
   "source": []
  },
  {
   "cell_type": "code",
   "execution_count": null,
   "id": "891b7ed5",
   "metadata": {
    "papermill": {
     "duration": 0.066069,
     "end_time": "2021-09-24T23:54:37.569739",
     "exception": false,
     "start_time": "2021-09-24T23:54:37.503670",
     "status": "completed"
    },
    "tags": []
   },
   "outputs": [],
   "source": []
  }
 ],
 "metadata": {
  "kernelspec": {
   "display_name": "Python 3",
   "language": "python",
   "name": "python3"
  },
  "language_info": {
   "codemirror_mode": {
    "name": "ipython",
    "version": 3
   },
   "file_extension": ".py",
   "mimetype": "text/x-python",
   "name": "python",
   "nbconvert_exporter": "python",
   "pygments_lexer": "ipython3",
   "version": "3.7.10"
  },
  "papermill": {
   "default_parameters": {},
   "duration": 125.862784,
   "end_time": "2021-09-24T23:54:39.205442",
   "environment_variables": {},
   "exception": null,
   "input_path": "__notebook__.ipynb",
   "output_path": "__notebook__.ipynb",
   "parameters": {},
   "start_time": "2021-09-24T23:52:33.342658",
   "version": "2.3.3"
  }
 },
 "nbformat": 4,
 "nbformat_minor": 5
}
